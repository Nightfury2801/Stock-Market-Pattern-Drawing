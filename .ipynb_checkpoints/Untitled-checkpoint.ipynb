{
 "cells": [
  {
   "cell_type": "code",
   "execution_count": null,
   "id": "eae375c4-d85a-4b64-b116-eac4d2c125e6",
   "metadata": {},
   "outputs": [],
   "source": [
    "import pandas as pd\n",
    "import matplotlib.pyplot as plt"
   ]
  },
  {
   "cell_type": "code",
   "execution_count": null,
   "id": "b7151f30-47f1-4214-b0ef-74d6ede6b185",
   "metadata": {},
   "outputs": [],
   "source": [
    "df = pd.read_csv('Data/BPCL.csv')\n",
    "temp_df =  df[:50]"
   ]
  },
  {
   "cell_type": "code",
   "execution_count": null,
   "id": "971023b6-c70d-4e7b-a4e5-e8f0b22a9360",
   "metadata": {},
   "outputs": [],
   "source": [
    "plt.plot(temp_df['Date'], temp_df['Close'])\n",
    "plt.rc('xtick', labelsize=2)\n",
    "plt.xlabel('Date', size=2)\n",
    "plt.ylabel('Closing Price')\n",
    "plt.title('Stock Price closing')\n",
    "plt.show()"
   ]
  },
  {
   "cell_type": "code",
   "execution_count": null,
   "id": "37eb19d8-df44-44ff-938f-04fdf19f3133",
   "metadata": {},
   "outputs": [],
   "source": []
  }
 ],
 "metadata": {
  "kernelspec": {
   "display_name": "Python 3 (ipykernel)",
   "language": "python",
   "name": "python3"
  },
  "language_info": {
   "codemirror_mode": {
    "name": "ipython",
    "version": 3
   },
   "file_extension": ".py",
   "mimetype": "text/x-python",
   "name": "python",
   "nbconvert_exporter": "python",
   "pygments_lexer": "ipython3",
   "version": "3.11.4"
  }
 },
 "nbformat": 4,
 "nbformat_minor": 5
}
